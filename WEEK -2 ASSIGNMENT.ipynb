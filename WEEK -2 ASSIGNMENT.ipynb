{
 "cells": [
  {
   "cell_type": "markdown",
   "id": "50496797-bd86-4ff8-9f6d-f3330ff7d119",
   "metadata": {},
   "source": [
    "# WEEK-2 ASSIGNMENT"
   ]
  },
  {
   "cell_type": "markdown",
   "id": "9240ae8d-556e-4c77-b81b-568b20d01d1a",
   "metadata": {},
   "source": [
    "____"
   ]
  },
  {
   "cell_type": "markdown",
   "id": "8534cc15-e5a4-4b1f-8c0d-f6c49c33fa53",
   "metadata": {},
   "source": [
    "### PROBLEM STATEMENT\n",
    " Create a Python program that implements a singly linked list using Object-Oriented Programming (OOP) principles. Your implementation should include the following: A Node class to represent each node in the list. A LinkedList class to manage the nodes, with methods to: Add a node to the end of the list Print the list Delete the nth node (where n is a 1-based index) Include exception handling to manage edge cases such as: Deleting a node from an empty list Deleting a node with an index out of range Test your implementation with at least one sample list."
   ]
  },
  {
   "cell_type": "markdown",
   "id": "47da2707-509d-4105-82f4-5b5494e574d5",
   "metadata": {},
   "source": [
    "______"
   ]
  },
  {
   "cell_type": "code",
   "execution_count": 2,
   "id": "e9a3f1a4-d7f7-434d-9a00-b4fff8368431",
   "metadata": {},
   "outputs": [
    {
     "name": "stdout",
     "output_type": "stream",
     "text": [
      "\n",
      "======== Singly Linked List ========\n",
      "1. Append values\n",
      "2. Delete the n-th node\n",
      "3. Display the list\n",
      "4. Quit\n",
      "====================================\n",
      "\n"
     ]
    },
    {
     "name": "stdin",
     "output_type": "stream",
     "text": [
      "Choose an option (1-4):  1\n",
      "Enter values to append (separated by space or comma):  10 20 30 40 50 60\n"
     ]
    },
    {
     "name": "stdout",
     "output_type": "stream",
     "text": [
      "Values added.\n",
      "\n",
      "======== Singly Linked List ========\n",
      "1. Append values\n",
      "2. Delete the n-th node\n",
      "3. Display the list\n",
      "4. Quit\n",
      "====================================\n",
      "\n"
     ]
    },
    {
     "name": "stdin",
     "output_type": "stream",
     "text": [
      "Choose an option (1-4):  3\n"
     ]
    },
    {
     "name": "stdout",
     "output_type": "stream",
     "text": [
      "10 -> 20 -> 30 -> 40 -> 50 -> 60\n",
      "\n",
      "======== Singly Linked List ========\n",
      "1. Append values\n",
      "2. Delete the n-th node\n",
      "3. Display the list\n",
      "4. Quit\n",
      "====================================\n",
      "\n"
     ]
    },
    {
     "name": "stdin",
     "output_type": "stream",
     "text": [
      "Choose an option (1-4):  2\n",
      "Enter position (1-based index) to delete:  4\n"
     ]
    },
    {
     "name": "stdout",
     "output_type": "stream",
     "text": [
      "\n",
      "======== Singly Linked List ========\n",
      "1. Append values\n",
      "2. Delete the n-th node\n",
      "3. Display the list\n",
      "4. Quit\n",
      "====================================\n",
      "\n"
     ]
    },
    {
     "name": "stdin",
     "output_type": "stream",
     "text": [
      "Choose an option (1-4):  3\n"
     ]
    },
    {
     "name": "stdout",
     "output_type": "stream",
     "text": [
      "10 -> 20 -> 30 -> 50 -> 60\n",
      "\n",
      "======== Singly Linked List ========\n",
      "1. Append values\n",
      "2. Delete the n-th node\n",
      "3. Display the list\n",
      "4. Quit\n",
      "====================================\n",
      "\n"
     ]
    },
    {
     "name": "stdin",
     "output_type": "stream",
     "text": [
      "Choose an option (1-4):  4\n"
     ]
    },
    {
     "name": "stdout",
     "output_type": "stream",
     "text": [
      "Exiting…\n"
     ]
    }
   ],
   "source": [
    "class Node:\n",
    "    def __init__(self, data):\n",
    "        self.data = data\n",
    "        self.next = None\n",
    "\n",
    "\n",
    "class LinkedList:\n",
    "    def __init__(self):\n",
    "        self.head = None\n",
    "\n",
    "    def append(self, value):\n",
    "        new_node = Node(value)\n",
    "        if not self.head:\n",
    "            self.head = new_node\n",
    "            return\n",
    "        current = self.head\n",
    "        while current.next:\n",
    "            current = current.next\n",
    "        current.next = new_node\n",
    "\n",
    "    def print_list(self):\n",
    "        current = self.head\n",
    "        if not current:\n",
    "            print(\"<empty>\")\n",
    "            return\n",
    "        while current:\n",
    "            print(current.data, end=\" -> \" if current.next else \"\\n\")\n",
    "            current = current.next\n",
    "\n",
    "    def delete_nth(self, n):\n",
    "        if n <= 0:\n",
    "            print(\"Index must be ≥ 1\")\n",
    "            return\n",
    "        if not self.head:\n",
    "            print(\"List is empty\")\n",
    "            return\n",
    "        if n == 1:\n",
    "            self.head = self.head.next\n",
    "            return\n",
    "        current = self.head\n",
    "        for _ in range(n - 2):\n",
    "            if not current.next:\n",
    "                print(\"Index out of range\")\n",
    "                return\n",
    "            current = current.next\n",
    "        if not current.next:\n",
    "            print(\"Index out of range\")\n",
    "            return\n",
    "        current.next = current.next.next\n",
    "\n",
    "\n",
    "def main():\n",
    "    ll = LinkedList()\n",
    "\n",
    "    menu = \"\"\"\n",
    "======== Singly Linked List ========\n",
    "1. Append values\n",
    "2. Delete the n-th node\n",
    "3. Display the list\n",
    "4. Quit\n",
    "====================================\n",
    "\"\"\"\n",
    "    while True:\n",
    "        print(menu)\n",
    "        choice = input(\"Choose an option (1-4): \").strip()\n",
    "\n",
    "        if choice == \"1\":\n",
    "            values = input(\"Enter values to append (separated by space or comma): \")\n",
    "            value_list = [val.strip() for val in values.replace(',', ' ').split() if val.strip()]\n",
    "            for val in value_list:\n",
    "                try:\n",
    "                    ll.append(int(val))\n",
    "                except ValueError:\n",
    "                    print(f\"Skipped invalid input: {val}\")\n",
    "            print(\"Values added.\")\n",
    "        elif choice == \"2\":\n",
    "            try:\n",
    "                n = int(input(\"Enter position (1-based index) to delete: \"))\n",
    "                ll.delete_nth(n)\n",
    "            except ValueError:\n",
    "                print(\"Please enter a valid integer.\")\n",
    "        elif choice == \"3\":\n",
    "            ll.print_list()\n",
    "        elif choice == \"4\":\n",
    "            print(\"Exiting…\")\n",
    "            break\n",
    "        else:\n",
    "            print(\"Invalid option. Please select 1, 2, 3, or 4.\")\n",
    "\n",
    "if __name__ == \"__main__\":\n",
    "    main()"
   ]
  },
  {
   "cell_type": "code",
   "execution_count": null,
   "id": "cbc0ba58-bf43-44f9-8539-208a8888687f",
   "metadata": {},
   "outputs": [],
   "source": []
  }
 ],
 "metadata": {
  "kernelspec": {
   "display_name": "Python 3 (ipykernel)",
   "language": "python",
   "name": "python3"
  },
  "language_info": {
   "codemirror_mode": {
    "name": "ipython",
    "version": 3
   },
   "file_extension": ".py",
   "mimetype": "text/x-python",
   "name": "python",
   "nbconvert_exporter": "python",
   "pygments_lexer": "ipython3",
   "version": "3.10.11"
  }
 },
 "nbformat": 4,
 "nbformat_minor": 5
}
