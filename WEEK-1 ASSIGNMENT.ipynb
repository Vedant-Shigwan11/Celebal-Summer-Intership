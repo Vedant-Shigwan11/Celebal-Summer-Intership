{
 "cells": [
  {
   "cell_type": "markdown",
   "id": "ed8dc35d-1517-43cf-8518-90ba0126e6c3",
   "metadata": {},
   "source": [
    "# WEEK-1 ASSIGNMENT"
   ]
  },
  {
   "cell_type": "markdown",
   "id": "cfb6083d-9bb8-4fc2-8562-792c522eebf9",
   "metadata": {},
   "source": [
    "________"
   ]
  },
  {
   "cell_type": "markdown",
   "id": "2e9b82fe-1bd7-4954-bea5-612f2566cdb5",
   "metadata": {},
   "source": [
    "### PROBLEM STATEMENT: \n",
    "#### Create lower triangular, upper triangular and pyramid containing the \"*\" character."
   ]
  },
  {
   "cell_type": "markdown",
   "id": "cdea0622-9d7b-4f52-9b17-0338d9fbed6c",
   "metadata": {},
   "source": [
    "_______"
   ]
  },
  {
   "cell_type": "code",
   "execution_count": 6,
   "id": "d0ca04fa-506c-4741-bcd9-667ddf411594",
   "metadata": {},
   "outputs": [
    {
     "name": "stdin",
     "output_type": "stream",
     "text": [
      "Enter the number of rows:  6\n"
     ]
    },
    {
     "name": "stdout",
     "output_type": "stream",
     "text": [
      "Lower Triangle\t\tUpper Triangle\t\t\tPyramid\n",
      "--------------------------------------------------------------------------------\n",
      "*                   \t* * * * * *         \t          * \n",
      "* *                 \t* * * * *           \t        * * * \n",
      "* * *               \t* * * *             \t      * * * * * \n",
      "* * * *             \t* * *               \t    * * * * * * * \n",
      "* * * * *           \t* *                 \t  * * * * * * * * * \n",
      "* * * * * *         \t*                   \t* * * * * * * * * * * \n"
     ]
    }
   ],
   "source": [
    "def lower(rows): \n",
    "    result = []\n",
    "    for i in range(rows): \n",
    "        result.append(\"* \" * (i + 1))\n",
    "    return result\n",
    "\n",
    "\n",
    "def upper(rows): \n",
    "    result = []\n",
    "    for i in range(rows, 0, -1): \n",
    "        result.append(\"* \" * i)\n",
    "    return result\n",
    "\n",
    "\n",
    "def pyramid(rows):\n",
    "    result = []\n",
    "    for i in range(1, rows + 1):\n",
    "        spaces = \"  \" * (rows - i)\n",
    "        stars = \"* \" * (2 * i - 1)\n",
    "        result.append(spaces + stars)\n",
    "    return result\n",
    "\n",
    "\n",
    "# ---- Main Execution ----\n",
    "if __name__ == \"__main__\":\n",
    "    rows = int(input(\"Enter the number of rows: \"))\n",
    "\n",
    "    lower_pattern = lower(rows)\n",
    "    upper_pattern = upper(rows)\n",
    "    pyramid_pattern = pyramid(rows)\n",
    "\n",
    "    print(\"Lower Triangle\\t\\tUpper Triangle\\t\\t\\tPyramid\")\n",
    "    print(\"-\" * 80)\n",
    "    for i in range(rows):\n",
    "        l = lower_pattern[i] if i < len(lower_pattern) else \"\"\n",
    "        u = upper_pattern[i] if i < len(upper_pattern) else \"\"\n",
    "        p = pyramid_pattern[i] if i < len(pyramid_pattern) else \"\"\n",
    "        print(f\"{l:<20}\\t{u:<20}\\t{p}\")\n"
   ]
  },
  {
   "cell_type": "code",
   "execution_count": null,
   "id": "d0c043c9-eee0-42e7-a2e0-de4a6b942b1c",
   "metadata": {},
   "outputs": [],
   "source": []
  }
 ],
 "metadata": {
  "kernelspec": {
   "display_name": "Python 3 (ipykernel)",
   "language": "python",
   "name": "python3"
  },
  "language_info": {
   "codemirror_mode": {
    "name": "ipython",
    "version": 3
   },
   "file_extension": ".py",
   "mimetype": "text/x-python",
   "name": "python",
   "nbconvert_exporter": "python",
   "pygments_lexer": "ipython3",
   "version": "3.10.11"
  }
 },
 "nbformat": 4,
 "nbformat_minor": 5
}
